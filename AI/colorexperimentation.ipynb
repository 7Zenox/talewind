{
 "cells": [
  {
   "attachments": {},
   "cell_type": "markdown",
   "metadata": {},
   "source": [
    "# COLOR EXPERIMENTATION NOTEBOOK\n",
    "### THE PURPOSES OF THIS NOTEBOOK IS TO GENERATE A COLOUR SPACE FOR OUR ENTITIES, AND ALL COMBINATION OF SUCH."
   ]
  },
  {
   "cell_type": "code",
   "execution_count": 6,
   "metadata": {},
   "outputs": [],
   "source": [
    "from itertools import combinations\n",
    "import numpy as np\n",
    "from matplotlib.colors import to_hex"
   ]
  },
  {
   "cell_type": "code",
   "execution_count": 2,
   "metadata": {},
   "outputs": [],
   "source": [
    "raw_ent = ['Content Bias', 'Partisan Bias', 'False balance', 'Ventriloquism',\n",
    "           'Demographic bias', 'Undue Weight', 'Corporate Bias']"
   ]
  },
  {
   "cell_type": "code",
   "execution_count": 26,
   "metadata": {},
   "outputs": [
    {
     "data": {
      "text/plain": [
       "127"
      ]
     },
     "execution_count": 26,
     "metadata": {},
     "output_type": "execute_result"
    }
   ],
   "source": [
    "ent_filtered = []\n",
    "colordict = dict(zip(raw_ent, ['#0072f5', '#9750dd', '#17c964', \n",
    "                               '#f5a524', '#f31260', '#baea15', \n",
    "                               '#ec4c13']))\n",
    "colors = []\n",
    "for i in range(1, 8):\n",
    "    for j in combinations(raw_ent, i):\n",
    "        ent_filtered.append(', '.join(j))\n",
    "        colors.append(colordict[j[0]])\n",
    "len(ent_filtered)"
   ]
  },
  {
   "cell_type": "code",
   "execution_count": 27,
   "metadata": {},
   "outputs": [],
   "source": [
    "final_colors = dict(zip(ent_filtered, colors))"
   ]
  },
  {
   "cell_type": "code",
   "execution_count": 28,
   "metadata": {},
   "outputs": [],
   "source": [
    "import pickle\n",
    "with open('./colors.pkl', 'wb') as f:\n",
    "    pickle.dump(final_colors, f)\n",
    "f.close()"
   ]
  },
  {
   "cell_type": "code",
   "execution_count": 29,
   "metadata": {},
   "outputs": [
    {
     "data": {
      "text/plain": [
       "{'Content Bias': '#0072f5',\n",
       " 'Partisan Bias': '#9750dd',\n",
       " 'False balance': '#17c964',\n",
       " 'Ventriloquism': '#f5a524',\n",
       " 'Demographic bias': '#f31260',\n",
       " 'Undue Weight': '#baea15',\n",
       " 'Corporate Bias': '#ec4c13',\n",
       " 'Content Bias, Partisan Bias': '#0072f5',\n",
       " 'Content Bias, False balance': '#0072f5',\n",
       " 'Content Bias, Ventriloquism': '#0072f5',\n",
       " 'Content Bias, Demographic bias': '#0072f5',\n",
       " 'Content Bias, Undue Weight': '#0072f5',\n",
       " 'Content Bias, Corporate Bias': '#0072f5',\n",
       " 'Partisan Bias, False balance': '#9750dd',\n",
       " 'Partisan Bias, Ventriloquism': '#9750dd',\n",
       " 'Partisan Bias, Demographic bias': '#9750dd',\n",
       " 'Partisan Bias, Undue Weight': '#9750dd',\n",
       " 'Partisan Bias, Corporate Bias': '#9750dd',\n",
       " 'False balance, Ventriloquism': '#17c964',\n",
       " 'False balance, Demographic bias': '#17c964',\n",
       " 'False balance, Undue Weight': '#17c964',\n",
       " 'False balance, Corporate Bias': '#17c964',\n",
       " 'Ventriloquism, Demographic bias': '#f5a524',\n",
       " 'Ventriloquism, Undue Weight': '#f5a524',\n",
       " 'Ventriloquism, Corporate Bias': '#f5a524',\n",
       " 'Demographic bias, Undue Weight': '#f31260',\n",
       " 'Demographic bias, Corporate Bias': '#f31260',\n",
       " 'Undue Weight, Corporate Bias': '#baea15',\n",
       " 'Content Bias, Partisan Bias, False balance': '#0072f5',\n",
       " 'Content Bias, Partisan Bias, Ventriloquism': '#0072f5',\n",
       " 'Content Bias, Partisan Bias, Demographic bias': '#0072f5',\n",
       " 'Content Bias, Partisan Bias, Undue Weight': '#0072f5',\n",
       " 'Content Bias, Partisan Bias, Corporate Bias': '#0072f5',\n",
       " 'Content Bias, False balance, Ventriloquism': '#0072f5',\n",
       " 'Content Bias, False balance, Demographic bias': '#0072f5',\n",
       " 'Content Bias, False balance, Undue Weight': '#0072f5',\n",
       " 'Content Bias, False balance, Corporate Bias': '#0072f5',\n",
       " 'Content Bias, Ventriloquism, Demographic bias': '#0072f5',\n",
       " 'Content Bias, Ventriloquism, Undue Weight': '#0072f5',\n",
       " 'Content Bias, Ventriloquism, Corporate Bias': '#0072f5',\n",
       " 'Content Bias, Demographic bias, Undue Weight': '#0072f5',\n",
       " 'Content Bias, Demographic bias, Corporate Bias': '#0072f5',\n",
       " 'Content Bias, Undue Weight, Corporate Bias': '#0072f5',\n",
       " 'Partisan Bias, False balance, Ventriloquism': '#9750dd',\n",
       " 'Partisan Bias, False balance, Demographic bias': '#9750dd',\n",
       " 'Partisan Bias, False balance, Undue Weight': '#9750dd',\n",
       " 'Partisan Bias, False balance, Corporate Bias': '#9750dd',\n",
       " 'Partisan Bias, Ventriloquism, Demographic bias': '#9750dd',\n",
       " 'Partisan Bias, Ventriloquism, Undue Weight': '#9750dd',\n",
       " 'Partisan Bias, Ventriloquism, Corporate Bias': '#9750dd',\n",
       " 'Partisan Bias, Demographic bias, Undue Weight': '#9750dd',\n",
       " 'Partisan Bias, Demographic bias, Corporate Bias': '#9750dd',\n",
       " 'Partisan Bias, Undue Weight, Corporate Bias': '#9750dd',\n",
       " 'False balance, Ventriloquism, Demographic bias': '#17c964',\n",
       " 'False balance, Ventriloquism, Undue Weight': '#17c964',\n",
       " 'False balance, Ventriloquism, Corporate Bias': '#17c964',\n",
       " 'False balance, Demographic bias, Undue Weight': '#17c964',\n",
       " 'False balance, Demographic bias, Corporate Bias': '#17c964',\n",
       " 'False balance, Undue Weight, Corporate Bias': '#17c964',\n",
       " 'Ventriloquism, Demographic bias, Undue Weight': '#f5a524',\n",
       " 'Ventriloquism, Demographic bias, Corporate Bias': '#f5a524',\n",
       " 'Ventriloquism, Undue Weight, Corporate Bias': '#f5a524',\n",
       " 'Demographic bias, Undue Weight, Corporate Bias': '#f31260',\n",
       " 'Content Bias, Partisan Bias, False balance, Ventriloquism': '#0072f5',\n",
       " 'Content Bias, Partisan Bias, False balance, Demographic bias': '#0072f5',\n",
       " 'Content Bias, Partisan Bias, False balance, Undue Weight': '#0072f5',\n",
       " 'Content Bias, Partisan Bias, False balance, Corporate Bias': '#0072f5',\n",
       " 'Content Bias, Partisan Bias, Ventriloquism, Demographic bias': '#0072f5',\n",
       " 'Content Bias, Partisan Bias, Ventriloquism, Undue Weight': '#0072f5',\n",
       " 'Content Bias, Partisan Bias, Ventriloquism, Corporate Bias': '#0072f5',\n",
       " 'Content Bias, Partisan Bias, Demographic bias, Undue Weight': '#0072f5',\n",
       " 'Content Bias, Partisan Bias, Demographic bias, Corporate Bias': '#0072f5',\n",
       " 'Content Bias, Partisan Bias, Undue Weight, Corporate Bias': '#0072f5',\n",
       " 'Content Bias, False balance, Ventriloquism, Demographic bias': '#0072f5',\n",
       " 'Content Bias, False balance, Ventriloquism, Undue Weight': '#0072f5',\n",
       " 'Content Bias, False balance, Ventriloquism, Corporate Bias': '#0072f5',\n",
       " 'Content Bias, False balance, Demographic bias, Undue Weight': '#0072f5',\n",
       " 'Content Bias, False balance, Demographic bias, Corporate Bias': '#0072f5',\n",
       " 'Content Bias, False balance, Undue Weight, Corporate Bias': '#0072f5',\n",
       " 'Content Bias, Ventriloquism, Demographic bias, Undue Weight': '#0072f5',\n",
       " 'Content Bias, Ventriloquism, Demographic bias, Corporate Bias': '#0072f5',\n",
       " 'Content Bias, Ventriloquism, Undue Weight, Corporate Bias': '#0072f5',\n",
       " 'Content Bias, Demographic bias, Undue Weight, Corporate Bias': '#0072f5',\n",
       " 'Partisan Bias, False balance, Ventriloquism, Demographic bias': '#9750dd',\n",
       " 'Partisan Bias, False balance, Ventriloquism, Undue Weight': '#9750dd',\n",
       " 'Partisan Bias, False balance, Ventriloquism, Corporate Bias': '#9750dd',\n",
       " 'Partisan Bias, False balance, Demographic bias, Undue Weight': '#9750dd',\n",
       " 'Partisan Bias, False balance, Demographic bias, Corporate Bias': '#9750dd',\n",
       " 'Partisan Bias, False balance, Undue Weight, Corporate Bias': '#9750dd',\n",
       " 'Partisan Bias, Ventriloquism, Demographic bias, Undue Weight': '#9750dd',\n",
       " 'Partisan Bias, Ventriloquism, Demographic bias, Corporate Bias': '#9750dd',\n",
       " 'Partisan Bias, Ventriloquism, Undue Weight, Corporate Bias': '#9750dd',\n",
       " 'Partisan Bias, Demographic bias, Undue Weight, Corporate Bias': '#9750dd',\n",
       " 'False balance, Ventriloquism, Demographic bias, Undue Weight': '#17c964',\n",
       " 'False balance, Ventriloquism, Demographic bias, Corporate Bias': '#17c964',\n",
       " 'False balance, Ventriloquism, Undue Weight, Corporate Bias': '#17c964',\n",
       " 'False balance, Demographic bias, Undue Weight, Corporate Bias': '#17c964',\n",
       " 'Ventriloquism, Demographic bias, Undue Weight, Corporate Bias': '#f5a524',\n",
       " 'Content Bias, Partisan Bias, False balance, Ventriloquism, Demographic bias': '#0072f5',\n",
       " 'Content Bias, Partisan Bias, False balance, Ventriloquism, Undue Weight': '#0072f5',\n",
       " 'Content Bias, Partisan Bias, False balance, Ventriloquism, Corporate Bias': '#0072f5',\n",
       " 'Content Bias, Partisan Bias, False balance, Demographic bias, Undue Weight': '#0072f5',\n",
       " 'Content Bias, Partisan Bias, False balance, Demographic bias, Corporate Bias': '#0072f5',\n",
       " 'Content Bias, Partisan Bias, False balance, Undue Weight, Corporate Bias': '#0072f5',\n",
       " 'Content Bias, Partisan Bias, Ventriloquism, Demographic bias, Undue Weight': '#0072f5',\n",
       " 'Content Bias, Partisan Bias, Ventriloquism, Demographic bias, Corporate Bias': '#0072f5',\n",
       " 'Content Bias, Partisan Bias, Ventriloquism, Undue Weight, Corporate Bias': '#0072f5',\n",
       " 'Content Bias, Partisan Bias, Demographic bias, Undue Weight, Corporate Bias': '#0072f5',\n",
       " 'Content Bias, False balance, Ventriloquism, Demographic bias, Undue Weight': '#0072f5',\n",
       " 'Content Bias, False balance, Ventriloquism, Demographic bias, Corporate Bias': '#0072f5',\n",
       " 'Content Bias, False balance, Ventriloquism, Undue Weight, Corporate Bias': '#0072f5',\n",
       " 'Content Bias, False balance, Demographic bias, Undue Weight, Corporate Bias': '#0072f5',\n",
       " 'Content Bias, Ventriloquism, Demographic bias, Undue Weight, Corporate Bias': '#0072f5',\n",
       " 'Partisan Bias, False balance, Ventriloquism, Demographic bias, Undue Weight': '#9750dd',\n",
       " 'Partisan Bias, False balance, Ventriloquism, Demographic bias, Corporate Bias': '#9750dd',\n",
       " 'Partisan Bias, False balance, Ventriloquism, Undue Weight, Corporate Bias': '#9750dd',\n",
       " 'Partisan Bias, False balance, Demographic bias, Undue Weight, Corporate Bias': '#9750dd',\n",
       " 'Partisan Bias, Ventriloquism, Demographic bias, Undue Weight, Corporate Bias': '#9750dd',\n",
       " 'False balance, Ventriloquism, Demographic bias, Undue Weight, Corporate Bias': '#17c964',\n",
       " 'Content Bias, Partisan Bias, False balance, Ventriloquism, Demographic bias, Undue Weight': '#0072f5',\n",
       " 'Content Bias, Partisan Bias, False balance, Ventriloquism, Demographic bias, Corporate Bias': '#0072f5',\n",
       " 'Content Bias, Partisan Bias, False balance, Ventriloquism, Undue Weight, Corporate Bias': '#0072f5',\n",
       " 'Content Bias, Partisan Bias, False balance, Demographic bias, Undue Weight, Corporate Bias': '#0072f5',\n",
       " 'Content Bias, Partisan Bias, Ventriloquism, Demographic bias, Undue Weight, Corporate Bias': '#0072f5',\n",
       " 'Content Bias, False balance, Ventriloquism, Demographic bias, Undue Weight, Corporate Bias': '#0072f5',\n",
       " 'Partisan Bias, False balance, Ventriloquism, Demographic bias, Undue Weight, Corporate Bias': '#9750dd',\n",
       " 'Content Bias, Partisan Bias, False balance, Ventriloquism, Demographic bias, Undue Weight, Corporate Bias': '#0072f5'}"
      ]
     },
     "execution_count": 29,
     "metadata": {},
     "output_type": "execute_result"
    }
   ],
   "source": [
    "with open('./colors.pkl', 'rb') as f:\n",
    "    new_colors = pickle.load(f)\n",
    "new_colors"
   ]
  }
 ],
 "metadata": {
  "kernelspec": {
   "display_name": "nlp",
   "language": "python",
   "name": "python3"
  },
  "language_info": {
   "codemirror_mode": {
    "name": "ipython",
    "version": 3
   },
   "file_extension": ".py",
   "mimetype": "text/x-python",
   "name": "python",
   "nbconvert_exporter": "python",
   "pygments_lexer": "ipython3",
   "version": "3.10.11"
  },
  "orig_nbformat": 4
 },
 "nbformat": 4,
 "nbformat_minor": 2
}
