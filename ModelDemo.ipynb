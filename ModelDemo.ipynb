{
 "cells": [
  {
   "cell_type": "markdown",
   "metadata": {},
   "source": [
    "# Classifying News Article Bias with LSTM"
   ]
  },
  {
   "cell_type": "code",
   "execution_count": 1,
   "metadata": {},
   "outputs": [
    {
     "name": "stderr",
     "output_type": "stream",
     "text": [
      "2023-03-16 12:10:49.023665: I tensorflow/core/platform/cpu_feature_guard.cc:193] This TensorFlow binary is optimized with oneAPI Deep Neural Network Library (oneDNN) to use the following CPU instructions in performance-critical operations:  AVX2 FMA\n",
      "To enable them in other operations, rebuild TensorFlow with the appropriate compiler flags.\n",
      "2023-03-16 12:10:50.042114: W tensorflow/compiler/xla/stream_executor/platform/default/dso_loader.cc:64] Could not load dynamic library 'libnvinfer.so.7'; dlerror: libnvinfer.so.7: cannot open shared object file: No such file or directory; LD_LIBRARY_PATH: :/home/andyd/miniconda3/envs/nlp/lib/\n",
      "2023-03-16 12:10:50.046393: W tensorflow/compiler/xla/stream_executor/platform/default/dso_loader.cc:64] Could not load dynamic library 'libnvinfer_plugin.so.7'; dlerror: libnvinfer_plugin.so.7: cannot open shared object file: No such file or directory; LD_LIBRARY_PATH: :/home/andyd/miniconda3/envs/nlp/lib/\n",
      "2023-03-16 12:10:50.046414: W tensorflow/compiler/tf2tensorrt/utils/py_utils.cc:38] TF-TRT Warning: Cannot dlopen some TensorRT libraries. If you would like to use Nvidia GPU with TensorRT, please make sure the missing libraries mentioned above are installed properly.\n"
     ]
    }
   ],
   "source": [
    "import sqlite3\n",
    "import pickle\n",
    "import numpy as np\n",
    "import re\n",
    "import random\n",
    "from time import strftime, localtime\n",
    "\n",
    "from keras.preprocessing.text import text_to_word_sequence\n",
    "from keras.utils import pad_sequences\n",
    "\n",
    "from keras.models import Sequential, load_model\n",
    "from keras.layers import Embedding, Dense, LSTM, Dropout, Conv1D, MaxPooling1D, Flatten\n",
    "from keras.callbacks import EarlyStopping, ModelCheckpoint"
   ]
  },
  {
   "cell_type": "code",
   "execution_count": 4,
   "metadata": {},
   "outputs": [],
   "source": [
    "MAX_ARTICLE_LENGTH = 10000\n",
    "PAD_VALUE = 0\n",
    "\n",
    "db = sqlite3.connect('text_encoder.db')\n",
    "c = db.cursor()\n",
    "c.execute('''CREATE TABLE IF NOT EXISTS \"TextEncoder\"(\n",
    "    \"word\" TEXT,\n",
    "    \"n\" INTEGER,\n",
    "    PRIMARY KEY(\"word\")\n",
    ");''')\n",
    "del c"
   ]
  },
  {
   "cell_type": "code",
   "execution_count": 2,
   "metadata": {},
   "outputs": [],
   "source": [
    "def get_max_key():\n",
    "    c = db.cursor()\n",
    "    c.execute('SELECT MAX(n) FROM TextEncoder;')\n",
    "    return c.fetchone()[0]\n",
    "\n",
    "def add_word_encoding(word, key):\n",
    "    c = db.cursor()\n",
    "    c.execute('INSERT INTO TextEncoder (word, n) VALUES (?, ?);', (word, key))\n",
    "    assert c.rowcount > 0, \"ERROR Inserting key %10s as word: %20s\" % (key, word)\n",
    "    db.commit()\n",
    "    return\n",
    "\n",
    "def get_word_key(word, freeze):\n",
    "    c = db.cursor()\n",
    "    c.execute('SELECT n FROM TextEncoder WHERE word = ?;', (word,))\n",
    "    response = c.fetchone()\n",
    "    if response is not None:\n",
    "        return response[0]\n",
    "    else:\n",
    "        if freeze:\n",
    "            return None\n",
    "        else:\n",
    "            key = get_max_key() + 1\n",
    "            add_word_encoding(word, key)\n",
    "            print('Adding word \"%20s\" as n: %10i' % (word, key))\n",
    "            return key\n",
    "\n",
    "def get_vocab_length():\n",
    "    c = db.cursor()\n",
    "    c.execute('SELECT COUNT(*) FROM TextEncoder;')\n",
    "    return c.fetchone()[0]\n",
    "\n",
    "def numberize_article(article, freeze):\n",
    "    tokens = text_to_word_sequence(article)\n",
    "    num_article = []\n",
    "    for token in tokens:\n",
    "        key = get_word_key(token, freeze)\n",
    "        if key is not None:\n",
    "            num_article.append(key)\n",
    "    return np.array(num_article)\n",
    "\n",
    "def get_nums_word(n):\n",
    "    c = db.cursor()\n",
    "    c.execute('SELECT word FROM TextEncoder WHERE n = ?;', (n,))\n",
    "    word = c.fetchone()\n",
    "    if word is None:\n",
    "        return ''\n",
    "    else:\n",
    "        return word[0]"
   ]
  },
  {
   "cell_type": "code",
   "execution_count": 5,
   "metadata": {},
   "outputs": [],
   "source": [
    "def remake_article(num_article):\n",
    "    text_array = [get_nums_word(n) for n in num_article]\n",
    "    raw_text = ' '.join(text_array)\n",
    "    return re.sub(r'\\s+', ' ', raw_text)\n",
    "\n",
    "\n",
    "def parse_articles(articles, max_length=MAX_ARTICLE_LENGTH, min_length=20, verbose=False, freeze=False):\n",
    "    numerified_articles = []\n",
    "    removed_articles = set()\n",
    "    for i, a in enumerate(articles):\n",
    "        numberized = numberize_article(a, freeze)\n",
    "        if len(numberized) >= min_length:\n",
    "            numerified_articles.append(numberized)\n",
    "        else:\n",
    "            removed_articles.add(i)\n",
    "            if verbose:\n",
    "                print('Removing article: %6i for being too short. Length: %3i' % (i, len(numberized)))\n",
    "    numerified_articles = np.array(numerified_articles)\n",
    "    return pad_sequences(numerified_articles, maxlen=max_length, dtype='float32', value=0), removed_articles\n",
    "\n",
    "\n",
    "def train_test_split(data_in, data_out, train_pct=0.75, validate=True, val_pct_of_test=0.33):\n",
    "    all_data = list(zip(data_in, data_out))\n",
    "    random.shuffle(all_data)\n",
    "    shuffled_in, shuffled_out = zip(*all_data)\n",
    "    data_length = len(all_data)\n",
    "    if validate:\n",
    "        test_split = int(data_length * train_pct)\n",
    "        val_split = test_split + int((data_length - test_split) * (1 - val_pct_of_test))\n",
    "        \n",
    "        train_in = shuffled_in[:test_split]\n",
    "        test_in = shuffled_in[test_split:val_split]\n",
    "        val_in = shuffled_in[val_split:]\n",
    "        \n",
    "        train_out = shuffled_out[:test_split]\n",
    "        test_out = shuffled_out[test_split:val_split]\n",
    "        val_out = shuffled_out[val_split:]\n",
    "        \n",
    "        return (np.array(train_in), np.array(train_out)), (np.array(val_in), np.array(val_out)), (np.array(test_in), np.array(test_out))\n",
    "    else:\n",
    "        test_split = int(data_length * train_pct)\n",
    "        train_in = shuffled_in[:test_split]\n",
    "        train_out = shuffled_out[:test_split]\n",
    "        test_in = shuffled_in[test_split:]\n",
    "        test_out = shuffled_out[test_split:]\n",
    "        return (np.array(train_in), np.array(train_out)), (np.array(test_in), np.array(test_out))\n",
    "\n",
    "\n",
    "def create_model(encoding_vector_size=100, n_filters=32, kernel_size=3, pool_size=2, add_dropout=True, dropout_pct=0.2):\n",
    "    model = Sequential()\n",
    "    model.add(Embedding(\n",
    "        input_dim=get_vocab_length(),\n",
    "        output_dim=encoding_vector_size,\n",
    "        input_length=MAX_ARTICLE_LENGTH\n",
    "    ))\n",
    "    if add_dropout:\n",
    "        model.add(Dropout(dropout_pct))\n",
    "    model.add(Conv1D(\n",
    "        filters=n_filters, \n",
    "        kernel_size=kernel_size, \n",
    "        padding='same', \n",
    "        activation='relu'\n",
    "    ))\n",
    "    model.add(MaxPooling1D(\n",
    "        pool_size=pool_size\n",
    "    ))\n",
    "    if add_dropout:\n",
    "        model.add(Dropout(dropout_pct))\n",
    "    model.add(LSTM(100))\n",
    "    model.add(Dense(1, activation='sigmoid'))\n",
    "    return model\n",
    "\n",
    "def gen_filename():\n",
    "    return 'savedModels/article_lstm_model_%s.h5' % strftime('%y%m%d.%H%M%S', localtime())\n",
    "\n",
    "def get_data_from_db():\n",
    "    adb = sqlite3.connect('articles.db')\n",
    "    c = adb.cursor()\n",
    "    c.execute('SELECT text, right_score FROM SiteScrape;')\n",
    "    articles, labels = zip(*c.fetchall())\n",
    "    return articles, np.array(labels).astype('float32')\n",
    "\n",
    "def save_data(articles, labels):\n",
    "    data = {\n",
    "        'articles': articles,\n",
    "        'labels': labels\n",
    "    }\n",
    "    with open('data_save.pickle', 'wb') as f:\n",
    "        pickle.dump(data, f)\n",
    "    return\n",
    "\n",
    "def get_data_from_pickle():\n",
    "    with open('database.pickle', 'rb') as f:\n",
    "        data = pickle.load(f)\n",
    "    articles = data['articles']\n",
    "    labels   = data['labels']\n",
    "    return articles, labels"
   ]
  },
  {
   "cell_type": "markdown",
   "metadata": {},
   "source": [
    "Import the data, parse the articles & labels, and then save them out"
   ]
  },
  {
   "cell_type": "code",
   "execution_count": 5,
   "metadata": {},
   "outputs": [
    {
     "ename": "KeyboardInterrupt",
     "evalue": "",
     "output_type": "error",
     "traceback": [
      "\u001b[0;31m---------------------------------------------------------------------------\u001b[0m",
      "\u001b[0;31mKeyboardInterrupt\u001b[0m                         Traceback (most recent call last)",
      "Cell \u001b[0;32mIn[5], line 5\u001b[0m\n\u001b[1;32m      2\u001b[0m articles, labels \u001b[39m=\u001b[39m get_data_from_db()\n\u001b[1;32m      4\u001b[0m \u001b[39m# Process\u001b[39;00m\n\u001b[0;32m----> 5\u001b[0m processed_articles, removed_articles \u001b[39m=\u001b[39m parse_articles(articles)\n\u001b[1;32m      6\u001b[0m labels \u001b[39m=\u001b[39m np\u001b[39m.\u001b[39marray([l \u001b[39mfor\u001b[39;00m i, l \u001b[39min\u001b[39;00m \u001b[39menumerate\u001b[39m(labels) \u001b[39mif\u001b[39;00m i \u001b[39mnot\u001b[39;00m \u001b[39min\u001b[39;00m removed_articles])\n\u001b[1;32m      8\u001b[0m \u001b[39m#Save\u001b[39;00m\n",
      "Cell \u001b[0;32mIn[4], line 11\u001b[0m, in \u001b[0;36mparse_articles\u001b[0;34m(articles, max_length, min_length, verbose, freeze)\u001b[0m\n\u001b[1;32m      9\u001b[0m removed_articles \u001b[39m=\u001b[39m \u001b[39mset\u001b[39m()\n\u001b[1;32m     10\u001b[0m \u001b[39mfor\u001b[39;00m i, a \u001b[39min\u001b[39;00m \u001b[39menumerate\u001b[39m(articles):\n\u001b[0;32m---> 11\u001b[0m     numberized \u001b[39m=\u001b[39m numberize_article(a, freeze)\n\u001b[1;32m     12\u001b[0m     \u001b[39mif\u001b[39;00m \u001b[39mlen\u001b[39m(numberized) \u001b[39m>\u001b[39m\u001b[39m=\u001b[39m min_length:\n\u001b[1;32m     13\u001b[0m         numerified_articles\u001b[39m.\u001b[39mappend(numberized)\n",
      "Cell \u001b[0;32mIn[3], line 37\u001b[0m, in \u001b[0;36mnumberize_article\u001b[0;34m(article, freeze)\u001b[0m\n\u001b[1;32m     35\u001b[0m num_article \u001b[39m=\u001b[39m []\n\u001b[1;32m     36\u001b[0m \u001b[39mfor\u001b[39;00m token \u001b[39min\u001b[39;00m tokens:\n\u001b[0;32m---> 37\u001b[0m     key \u001b[39m=\u001b[39m get_word_key(token, freeze)\n\u001b[1;32m     38\u001b[0m     \u001b[39mif\u001b[39;00m key \u001b[39mis\u001b[39;00m \u001b[39mnot\u001b[39;00m \u001b[39mNone\u001b[39;00m:\n\u001b[1;32m     39\u001b[0m         num_article\u001b[39m.\u001b[39mappend(key)\n",
      "Cell \u001b[0;32mIn[3], line 15\u001b[0m, in \u001b[0;36mget_word_key\u001b[0;34m(word, freeze)\u001b[0m\n\u001b[1;32m     13\u001b[0m \u001b[39mdef\u001b[39;00m \u001b[39mget_word_key\u001b[39m(word, freeze):\n\u001b[1;32m     14\u001b[0m     c \u001b[39m=\u001b[39m db\u001b[39m.\u001b[39mcursor()\n\u001b[0;32m---> 15\u001b[0m     c\u001b[39m.\u001b[39;49mexecute(\u001b[39m'\u001b[39;49m\u001b[39mSELECT n FROM TextEncoder WHERE word = ?;\u001b[39;49m\u001b[39m'\u001b[39;49m, (word,))\n\u001b[1;32m     16\u001b[0m     response \u001b[39m=\u001b[39m c\u001b[39m.\u001b[39mfetchone()\n\u001b[1;32m     17\u001b[0m     \u001b[39mif\u001b[39;00m response \u001b[39mis\u001b[39;00m \u001b[39mnot\u001b[39;00m \u001b[39mNone\u001b[39;00m:\n",
      "\u001b[0;31mKeyboardInterrupt\u001b[0m: "
     ]
    }
   ],
   "source": [
    "# Load\n",
    "articles, labels = get_data_from_db()\n",
    "\n",
    "# Process\n",
    "processed_articles, removed_articles = parse_articles(articles)\n",
    "labels = np.array([l for i, l in enumerate(labels) if i not in removed_articles])\n",
    "\n",
    "#Save\n",
    "save_data(processed_articles, labels)"
   ]
  },
  {
   "cell_type": "markdown",
   "metadata": {},
   "source": [
    "*Then* next time you can just load in the already processed data… (assuming nothing has changed)"
   ]
  },
  {
   "cell_type": "code",
   "execution_count": 6,
   "metadata": {},
   "outputs": [],
   "source": [
    "processed_articles, labels = get_data_from_pickle()"
   ]
  },
  {
   "cell_type": "markdown",
   "metadata": {},
   "source": [
    "Split out the data into `train`, `validate`, and`test`"
   ]
  },
  {
   "cell_type": "code",
   "execution_count": 7,
   "metadata": {},
   "outputs": [],
   "source": [
    "(train_in, train_out), (val_in, val_out), (test_in, test_out) = train_test_split(processed_articles, labels)"
   ]
  },
  {
   "cell_type": "markdown",
   "metadata": {},
   "source": [
    "Now build the model…"
   ]
  },
  {
   "cell_type": "code",
   "execution_count": 8,
   "metadata": {},
   "outputs": [
    {
     "name": "stderr",
     "output_type": "stream",
     "text": [
      "2023-03-16 11:51:26.293429: I tensorflow/compiler/xla/stream_executor/cuda/cuda_gpu_executor.cc:967] could not open file to read NUMA node: /sys/bus/pci/devices/0000:01:00.0/numa_node\n",
      "Your kernel may have been built without NUMA support.\n",
      "2023-03-16 11:51:26.348778: I tensorflow/compiler/xla/stream_executor/cuda/cuda_gpu_executor.cc:967] could not open file to read NUMA node: /sys/bus/pci/devices/0000:01:00.0/numa_node\n",
      "Your kernel may have been built without NUMA support.\n",
      "2023-03-16 11:51:26.348861: I tensorflow/compiler/xla/stream_executor/cuda/cuda_gpu_executor.cc:967] could not open file to read NUMA node: /sys/bus/pci/devices/0000:01:00.0/numa_node\n",
      "Your kernel may have been built without NUMA support.\n",
      "2023-03-16 11:51:26.350246: I tensorflow/core/platform/cpu_feature_guard.cc:193] This TensorFlow binary is optimized with oneAPI Deep Neural Network Library (oneDNN) to use the following CPU instructions in performance-critical operations:  AVX2 FMA\n",
      "To enable them in other operations, rebuild TensorFlow with the appropriate compiler flags.\n",
      "2023-03-16 11:51:26.354509: I tensorflow/compiler/xla/stream_executor/cuda/cuda_gpu_executor.cc:967] could not open file to read NUMA node: /sys/bus/pci/devices/0000:01:00.0/numa_node\n",
      "Your kernel may have been built without NUMA support.\n",
      "2023-03-16 11:51:26.354609: I tensorflow/compiler/xla/stream_executor/cuda/cuda_gpu_executor.cc:967] could not open file to read NUMA node: /sys/bus/pci/devices/0000:01:00.0/numa_node\n",
      "Your kernel may have been built without NUMA support.\n",
      "2023-03-16 11:51:26.354648: I tensorflow/compiler/xla/stream_executor/cuda/cuda_gpu_executor.cc:967] could not open file to read NUMA node: /sys/bus/pci/devices/0000:01:00.0/numa_node\n",
      "Your kernel may have been built without NUMA support.\n",
      "2023-03-16 11:51:28.885822: I tensorflow/compiler/xla/stream_executor/cuda/cuda_gpu_executor.cc:967] could not open file to read NUMA node: /sys/bus/pci/devices/0000:01:00.0/numa_node\n",
      "Your kernel may have been built without NUMA support.\n",
      "2023-03-16 11:51:28.885961: I tensorflow/compiler/xla/stream_executor/cuda/cuda_gpu_executor.cc:967] could not open file to read NUMA node: /sys/bus/pci/devices/0000:01:00.0/numa_node\n",
      "Your kernel may have been built without NUMA support.\n",
      "2023-03-16 11:51:28.885974: I tensorflow/core/common_runtime/gpu/gpu_device.cc:1700] Could not identify NUMA node of platform GPU id 0, defaulting to 0.  Your kernel may not have been built with NUMA support.\n",
      "2023-03-16 11:51:28.886017: I tensorflow/compiler/xla/stream_executor/cuda/cuda_gpu_executor.cc:967] could not open file to read NUMA node: /sys/bus/pci/devices/0000:01:00.0/numa_node\n",
      "Your kernel may have been built without NUMA support.\n",
      "2023-03-16 11:51:28.886087: I tensorflow/core/common_runtime/gpu/gpu_device.cc:1613] Created device /job:localhost/replica:0/task:0/device:GPU:0 with 5909 MB memory:  -> device: 0, name: NVIDIA GeForce RTX 2070 Super, pci bus id: 0000:01:00.0, compute capability: 7.5\n"
     ]
    }
   ],
   "source": [
    "model = create_model()\n",
    "\n",
    "callbacks = [\n",
    "    EarlyStopping(\n",
    "        monitor='val_acc', \n",
    "        patience=2\n",
    "    ),\n",
    "    ModelCheckpoint(\n",
    "        filepath=gen_filename(), \n",
    "        monitor='val_acc', \n",
    "        save_best_only=True\n",
    "    )\n",
    "]\n",
    "\n",
    "model.compile(\n",
    "    optimizer='adam',\n",
    "    loss='binary_crossentropy',\n",
    "    metrics=['acc']\n",
    ")"
   ]
  },
  {
   "cell_type": "markdown",
   "metadata": {},
   "source": [
    "What does the model look like?"
   ]
  },
  {
   "cell_type": "code",
   "execution_count": 9,
   "metadata": {},
   "outputs": [
    {
     "name": "stdout",
     "output_type": "stream",
     "text": [
      "Model: \"sequential\"\n",
      "_________________________________________________________________\n",
      " Layer (type)                Output Shape              Param #   \n",
      "=================================================================\n",
      " embedding (Embedding)       (None, 10000, 100)        17328600  \n",
      "                                                                 \n",
      " dropout (Dropout)           (None, 10000, 100)        0         \n",
      "                                                                 \n",
      " conv1d (Conv1D)             (None, 10000, 32)         9632      \n",
      "                                                                 \n",
      " max_pooling1d (MaxPooling1D  (None, 5000, 32)         0         \n",
      " )                                                               \n",
      "                                                                 \n",
      " dropout_1 (Dropout)         (None, 5000, 32)          0         \n",
      "                                                                 \n",
      " lstm (LSTM)                 (None, 100)               53200     \n",
      "                                                                 \n",
      " dense (Dense)               (None, 1)                 101       \n",
      "                                                                 \n",
      "=================================================================\n",
      "Total params: 17,391,533\n",
      "Trainable params: 17,391,533\n",
      "Non-trainable params: 0\n",
      "_________________________________________________________________\n"
     ]
    }
   ],
   "source": [
    "model.summary()"
   ]
  },
  {
   "cell_type": "markdown",
   "metadata": {},
   "source": [
    "Not starting from scratch? Use the following code instead"
   ]
  },
  {
   "cell_type": "code",
   "execution_count": null,
   "metadata": {},
   "outputs": [
    {
     "name": "stdout",
     "output_type": "stream",
     "text": [
      "WARNING:tensorflow:Layer lstm_2 will not use cuDNN kernels since it doesn't meet the criteria. It will use a generic GPU kernel as fallback when running on GPU.\n"
     ]
    }
   ],
   "source": [
    "# Enter the filename of the model to load\n",
    "model_filename = 'savedModels/Compressed_model_190515.002419/demo_model.h5'\n",
    "model = load_model(model_filename)"
   ]
  },
  {
   "cell_type": "markdown",
   "metadata": {},
   "source": [
    "Train the model for 3 epochs"
   ]
  },
  {
   "cell_type": "code",
   "execution_count": 10,
   "metadata": {},
   "outputs": [
    {
     "name": "stdout",
     "output_type": "stream",
     "text": [
      "Epoch 1/5\n"
     ]
    },
    {
     "name": "stderr",
     "output_type": "stream",
     "text": [
      "2023-03-16 11:51:51.538225: I tensorflow/compiler/xla/stream_executor/cuda/cuda_dnn.cc:428] Loaded cuDNN version 8401\n",
      "2023-03-16 11:51:52.703365: I tensorflow/compiler/xla/service/service.cc:173] XLA service 0x7f229c237ff0 initialized for platform CUDA (this does not guarantee that XLA will be used). Devices:\n",
      "2023-03-16 11:51:52.703415: I tensorflow/compiler/xla/service/service.cc:181]   StreamExecutor device (0): NVIDIA GeForce RTX 2070 Super, Compute Capability 7.5\n",
      "2023-03-16 11:51:52.730930: I tensorflow/compiler/mlir/tensorflow/utils/dump_mlir_util.cc:268] disabling MLIR crash reproducer, set env var `MLIR_CRASH_REPRODUCER_DIRECTORY` to enable.\n",
      "2023-03-16 11:51:52.996313: I tensorflow/compiler/jit/xla_compilation_cache.cc:477] Compiled cluster using XLA!  This line is logged at most once for the lifetime of the process.\n"
     ]
    },
    {
     "name": "stdout",
     "output_type": "stream",
     "text": [
      "435/435 [==============================] - 203s 451ms/step - loss: 0.1406 - acc: 0.9449 - val_loss: 0.0501 - val_acc: 0.9726\n",
      "Epoch 2/5\n",
      "435/435 [==============================] - 184s 424ms/step - loss: 0.0253 - acc: 0.9884 - val_loss: 0.0340 - val_acc: 0.9876\n",
      "Epoch 3/5\n",
      "435/435 [==============================] - 171s 393ms/step - loss: 0.0113 - acc: 0.9948 - val_loss: 0.0369 - val_acc: 0.9902\n",
      "Epoch 4/5\n",
      "435/435 [==============================] - 175s 403ms/step - loss: 0.0086 - acc: 0.9953 - val_loss: 0.0394 - val_acc: 0.9876\n",
      "Epoch 5/5\n",
      "435/435 [==============================] - 178s 408ms/step - loss: 0.0082 - acc: 0.9958 - val_loss: 0.0475 - val_acc: 0.9850\n"
     ]
    }
   ],
   "source": [
    "hist = model.fit(\n",
    "    train_in,\n",
    "    train_out,\n",
    "    epochs=5,\n",
    "    batch_size=32,\n",
    "    validation_data=(val_in, val_out),\n",
    "    callbacks=callbacks\n",
    ")"
   ]
  },
  {
   "cell_type": "markdown",
   "metadata": {},
   "source": [
    "Evaluate the trained model…"
   ]
  },
  {
   "cell_type": "code",
   "execution_count": 11,
   "metadata": {},
   "outputs": [
    {
     "name": "stdout",
     "output_type": "stream",
     "text": [
      "98/98 [==============================] - 16s 166ms/step - loss: 0.0670 - acc: 0.9794\n",
      "History Results:\n",
      "Loss:      0.07\n",
      "Accuracy: 97.94 %\n"
     ]
    }
   ],
   "source": [
    "evaluate = model.evaluate(test_in, test_out)\n",
    "print('History Results:')\n",
    "print('Loss:     %5.2f\\nAccuracy: %5.2f %%' % (evaluate[0], (evaluate[1]*100)))"
   ]
  },
  {
   "cell_type": "markdown",
   "metadata": {},
   "source": [
    "Plot the history"
   ]
  },
  {
   "cell_type": "code",
   "execution_count": 12,
   "metadata": {},
   "outputs": [],
   "source": [
    "import matplotlib.pyplot as plt\n",
    "%matplotlib inline"
   ]
  },
  {
   "cell_type": "markdown",
   "metadata": {},
   "source": [
    "What does the accuracy look like?"
   ]
  },
  {
   "cell_type": "code",
   "execution_count": 13,
   "metadata": {},
   "outputs": [
    {
     "data": {
      "image/png": "[encoded data removed]",
      "text/plain": [
       "<Figure size 640x480 with 1 Axes>"
      ]
     },
     "metadata": {},
     "output_type": "display_data"
    }
   ],
   "source": [
    "plt.plot(hist.history['acc'])\n",
    "plt.title('Article Classification LSTM Accuracy')\n",
    "plt.xlabel('Epoch')\n",
    "plt.ylabel('Accuracy')\n",
    "plt.grid()\n",
    "plt.show()\n"
   ]
  },
  {
   "cell_type": "markdown",
   "metadata": {},
   "source": [
    "What does the loss look like?"
   ]
  },
  {
   "cell_type": "code",
   "execution_count": 14,
   "metadata": {
    "collapsed": true,
    "jupyter": {
     "outputs_hidden": true
    }
   },
   "outputs": [
    {
     "data": {
      "image/png": "[encoded data removed]",
      "text/plain": [
       "<Figure size 640x480 with 1 Axes>"
      ]
     },
     "metadata": {},
     "output_type": "display_data"
    }
   ],
   "source": [
    "plt.plot(hist.history['loss'])\n",
    "plt.title('Article Classification LSTM Loss')\n",
    "plt.xlabel('Epoch')\n",
    "plt.ylabel('Loss')\n",
    "plt.grid()\n",
    "plt.show()\n"
   ]
  },
  {
   "cell_type": "markdown",
   "metadata": {},
   "source": [
    "## Testing the Network"
   ]
  },
  {
   "cell_type": "code",
   "execution_count": 6,
   "metadata": {},
   "outputs": [],
   "source": [
    "import re\n",
    "import requests\n",
    "from bs4 import BeautifulSoup\n",
    "from keras.models import load_model"
   ]
  },
  {
   "cell_type": "code",
   "execution_count": 7,
   "metadata": {},
   "outputs": [
    {
     "name": "stderr",
     "output_type": "stream",
     "text": [
      "2023-03-16 12:11:30.891268: I tensorflow/compiler/xla/stream_executor/cuda/cuda_gpu_executor.cc:967] could not open file to read NUMA node: /sys/bus/pci/devices/0000:01:00.0/numa_node\n",
      "Your kernel may have been built without NUMA support.\n",
      "2023-03-16 12:11:30.936999: I tensorflow/compiler/xla/stream_executor/cuda/cuda_gpu_executor.cc:967] could not open file to read NUMA node: /sys/bus/pci/devices/0000:01:00.0/numa_node\n",
      "Your kernel may have been built without NUMA support.\n",
      "2023-03-16 12:11:30.937078: I tensorflow/compiler/xla/stream_executor/cuda/cuda_gpu_executor.cc:967] could not open file to read NUMA node: /sys/bus/pci/devices/0000:01:00.0/numa_node\n",
      "Your kernel may have been built without NUMA support.\n",
      "2023-03-16 12:11:30.937831: I tensorflow/core/platform/cpu_feature_guard.cc:193] This TensorFlow binary is optimized with oneAPI Deep Neural Network Library (oneDNN) to use the following CPU instructions in performance-critical operations:  AVX2 FMA\n",
      "To enable them in other operations, rebuild TensorFlow with the appropriate compiler flags.\n",
      "2023-03-16 12:11:30.939653: I tensorflow/compiler/xla/stream_executor/cuda/cuda_gpu_executor.cc:967] could not open file to read NUMA node: /sys/bus/pci/devices/0000:01:00.0/numa_node\n",
      "Your kernel may have been built without NUMA support.\n",
      "2023-03-16 12:11:30.939726: I tensorflow/compiler/xla/stream_executor/cuda/cuda_gpu_executor.cc:967] could not open file to read NUMA node: /sys/bus/pci/devices/0000:01:00.0/numa_node\n",
      "Your kernel may have been built without NUMA support.\n",
      "2023-03-16 12:11:30.939758: I tensorflow/compiler/xla/stream_executor/cuda/cuda_gpu_executor.cc:967] could not open file to read NUMA node: /sys/bus/pci/devices/0000:01:00.0/numa_node\n",
      "Your kernel may have been built without NUMA support.\n",
      "2023-03-16 12:11:33.581245: I tensorflow/compiler/xla/stream_executor/cuda/cuda_gpu_executor.cc:967] could not open file to read NUMA node: /sys/bus/pci/devices/0000:01:00.0/numa_node\n",
      "Your kernel may have been built without NUMA support.\n",
      "2023-03-16 12:11:33.581339: I tensorflow/compiler/xla/stream_executor/cuda/cuda_gpu_executor.cc:967] could not open file to read NUMA node: /sys/bus/pci/devices/0000:01:00.0/numa_node\n",
      "Your kernel may have been built without NUMA support.\n",
      "2023-03-16 12:11:33.581348: I tensorflow/core/common_runtime/gpu/gpu_device.cc:1700] Could not identify NUMA node of platform GPU id 0, defaulting to 0.  Your kernel may not have been built with NUMA support.\n",
      "2023-03-16 12:11:33.581383: I tensorflow/compiler/xla/stream_executor/cuda/cuda_gpu_executor.cc:967] could not open file to read NUMA node: /sys/bus/pci/devices/0000:01:00.0/numa_node\n",
      "Your kernel may have been built without NUMA support.\n",
      "2023-03-16 12:11:33.581497: I tensorflow/core/common_runtime/gpu/gpu_device.cc:1613] Created device /job:localhost/replica:0/task:0/device:GPU:0 with 5909 MB memory:  -> device: 0, name: NVIDIA GeForce RTX 2070 Super, pci bus id: 0000:01:00.0, compute capability: 7.5\n"
     ]
    }
   ],
   "source": [
    "model = load_model('savedModels/article_lstm_model_230316.115129.h5')"
   ]
  },
  {
   "cell_type": "code",
   "execution_count": 8,
   "metadata": {},
   "outputs": [],
   "source": [
    "def clean_text(raw_text, to_lower=True):\n",
    "    text = re.sub(r'(https|http):[^\\s]*', ' ', raw_text)\n",
    "    text = re.sub('[' + re.escape('#@!\"$%&(\\')*+,-./:;<=>?[\\\\]^_`{|}~') + ']', '', text)\n",
    "    text = text.encode('utf8').decode('ascii','ignore')\n",
    "    text = re.sub(r'\\s+', ' ', text)\n",
    "    text = text.strip()\n",
    "    return text.lower()\n",
    "\n",
    "def scrape_page(url):\n",
    "    response = requests.get(url)\n",
    "    soup = BeautifulSoup(response.content, features='lxml')\n",
    "    p_tags = soup.find_all('p')\n",
    "    raw_text = ' '.join([p.text for p in p_tags])\n",
    "    text = clean_text(raw_text)\n",
    "    return text\n",
    "\n",
    "def make_prediction(text, model=model):\n",
    "    parsed_article, _ = parse_articles([text], min_length=0, freeze=True)\n",
    "    if len(parsed_article) < 1:\n",
    "        print('Sorry! It looks like once I processed that article, it was too short to use. :\\'(')\n",
    "        return\n",
    "    print('🤔 Let me think…')\n",
    "    prediction = model.predict(parsed_article)\n",
    "    prediction_pct = prediction[0] * 100\n",
    "    print('''\\n   ------------------------------------------------------------------------------------------\\n  |   I\\'d say that there\\'s a %5.2f%% chance that your article is from a right-leaning source. |\\n  |  ----------------------------------------------------------------------------------------\\n  |/\\n🖥️\\n''' % prediction_pct)\n",
    "    return"
   ]
  },
  {
   "cell_type": "markdown",
   "metadata": {},
   "source": [
    "Enter a URL below to test out the model!"
   ]
  },
  {
   "cell_type": "code",
   "execution_count": 10,
   "metadata": {},
   "outputs": [
    {
     "name": "stdout",
     "output_type": "stream",
     "text": [
      "\n",
      "\n",
      "\n",
      "🤔 Let me think…\n",
      "1/1 [==============================] - 0s 279ms/step\n",
      "\n",
      "   ------------------------------------------------------------------------------------------\n",
      "  |   I'd say that there's a 99.71% chance that your article is from a right-leaning source. |\n",
      "  |  ----------------------------------------------------------------------------------------\n",
      "  |/\n",
      "🖥️\n",
      "\n"
     ]
    }
   ],
   "source": [
    "url = input('Enter a url: ').strip()\n",
    "print('\\n\\n')\n",
    "make_prediction(url)"
   ]
  },
  {
   "cell_type": "code",
   "execution_count": 11,
   "metadata": {},
   "outputs": [
    {
     "name": "stdout",
     "output_type": "stream",
     "text": [
      "🤔 Let me think…\n",
      "1/1 [==============================] - 0s 162ms/step\n",
      "\n",
      "   ------------------------------------------------------------------------------------------\n",
      "  |   I'd say that there's a 99.71% chance that your article is from a right-leaning source. |\n",
      "  |  ----------------------------------------------------------------------------------------\n",
      "  |/\n",
      "🖥️\n",
      "\n",
      "🤔 Let me think…\n",
      "1/1 [==============================] - 0s 258ms/step\n",
      "\n",
      "   ------------------------------------------------------------------------------------------\n",
      "  |   I'd say that there's a 76.57% chance that your article is from a right-leaning source. |\n",
      "  |  ----------------------------------------------------------------------------------------\n",
      "  |/\n",
      "🖥️\n",
      "\n"
     ]
    }
   ],
   "source": [
    "test_urls = ['https://www.washingtonpost.com/politics/2023/03/15/trump-fox-news-dominion-defamation-lawsuit/',\n",
    "        'https://www.washingtonpost.com/politics/2023/03/15/biden-medicare-prescription-drugs-fight/']\n",
    "for i in test_urls:\n",
    "    make_prediction(i)"
   ]
  }
 ],
 "metadata": {
  "kernelspec": {
   "display_name": "Python 3",
   "language": "python",
   "name": "python3"
  },
  "language_info": {
   "codemirror_mode": {
    "name": "ipython",
    "version": 3
   },
   "file_extension": ".py",
   "mimetype": "text/x-python",
   "name": "python",
   "nbconvert_exporter": "python",
   "pygments_lexer": "ipython3",
   "version": "3.10.9"
  }
 },
 "nbformat": 4,
 "nbformat_minor": 4
}
